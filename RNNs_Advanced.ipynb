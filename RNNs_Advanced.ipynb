{
 "cells": [
  {
   "cell_type": "markdown",
   "metadata": {},
   "source": [
    "# Advanced RNNs"
   ]
  },
  {
   "cell_type": "markdown",
   "metadata": {},
   "source": [
    "    1) Bidirectional:\n",
    "        Video Captioning\n",
    "\n",
    "    2) Attention: In progress"
   ]
  },
  {
   "cell_type": "code",
   "execution_count": 41,
   "metadata": {},
   "outputs": [],
   "source": [
    "import sys\n",
    "## To get helper functions from ano`ther folder\n",
    "# sys.path.insert(0, '../') # if _helper_basics_ is in previous folder\n",
    "now_i_am_at = 'home' # home dso test\n",
    "if now_i_am_at=='home':\n",
    "    sys.path.insert(0, 'E:/Leonard HDD/Dropbox/DSO/Tasks/')\n",
    "elif now_i_am_at=='dso':\n",
    "    sys.path.insert(0, 'D:/Dropbox/DSO/Tasks')\n",
    "\n",
    "from _helper_basics_ import *\n",
    "\n",
    "## Deep learning\n",
    "import tensorflow as tf\n",
    "# import keras\n",
    "# from keras.models import Model, Sequential\n",
    "# from keras.layers import *\n",
    "# from keras import optimizers\n",
    "# import keras.backend as K"
   ]
  },
  {
   "cell_type": "code",
   "execution_count": 42,
   "metadata": {},
   "outputs": [
    {
     "name": "stdout",
     "output_type": "stream",
     "text": [
      "The autoreload extension is already loaded. To reload it, use:\n",
      "  %reload_ext autoreload\n",
      "keras 2.0.5\n",
      "tensorflow 1.2.0\n"
     ]
    }
   ],
   "source": [
    "%matplotlib inline\n",
    "plt.rcParams['savefig.dpi'] = 100\n",
    "\n",
    "## Why need autoreload - https://ipython.org/ipython-doc/3/config/extensions/autoreload.html\n",
    "%load_ext autoreload\n",
    "%autoreload 2\n",
    "\n",
    "print('keras', keras.__version__)\n",
    "print('tensorflow', tf.__version__)"
   ]
  },
  {
   "cell_type": "markdown",
   "metadata": {},
   "source": [
    "# Bidirectional LSTM\n",
    "How to use it in Funtional API"
   ]
  },
  {
   "cell_type": "code",
   "execution_count": 40,
   "metadata": {},
   "outputs": [
    {
     "name": "stdout",
     "output_type": "stream",
     "text": [
      "_________________________________________________________________\n",
      "Layer (type)                 Output Shape              Param #   \n",
      "=================================================================\n",
      "Input (InputLayer)           (None, 5, 10)             0         \n",
      "_________________________________________________________________\n",
      "bidirectional_36 (Bidirectio (None, 5, 20)             1680      \n",
      "_________________________________________________________________\n",
      "bidirectional_37 (Bidirectio (None, 20)                2480      \n",
      "_________________________________________________________________\n",
      "dense_17 (Dense)             (None, 5)                 105       \n",
      "=================================================================\n",
      "Total params: 4,265\n",
      "Trainable params: 4,265\n",
      "Non-trainable params: 0\n",
      "_________________________________________________________________\n",
      "Number of layers: (4,)\n",
      "Number of trainable parameters :\n",
      "  1) Input : 0\n",
      "  2) Hidden : 6\n",
      "     Weight 1: (10, 40) \n",
      "     Weight 2: (10, 40) \n",
      "     Weight 3: (40,) \n",
      "     Weight 4: (10, 40) \n",
      "     Weight 5: (10, 40) \n",
      "     Weight 6: (40,) \n",
      "  3) Hidden : 6\n",
      "     Weight 1: (20, 40) \n",
      "     Weight 2: (10, 40) \n",
      "     Weight 3: (40,) \n",
      "     Weight 4: (20, 40) \n",
      "     Weight 5: (10, 40) \n",
      "     Weight 6: (40,) \n",
      "  4) Output : 2\n",
      "     Weight 1: (20, 5) \n",
      "     Weight 2: (5,) \n"
     ]
    }
   ],
   "source": [
    "num_words  = 5\n",
    "num_feat   = 10\n",
    "num_class  = 2\n",
    "class_type = np.array([0,1])\n",
    "\n",
    "# ## Input : (None, num_words, num_feat)\n",
    "# seq = np.array( [i/float(num_words) for i in range(num_words)] )\n",
    "# X = seq.reshape(1, num_words, num_feat)\n",
    "\n",
    "# ## Output : (None, num_class)\n",
    "# y = class_type.reshape(1, num_class)\n",
    "\n",
    "########################### Architecture ##################################\n",
    "Inp = Input(shape=(num_words,num_feat), name=\"Input\")\n",
    "\n",
    "x   = Bidirectional(LSTM(10, return_sequences=True))(Inp)\n",
    "x   = Bidirectional(LSTM(10))(x)\n",
    "\n",
    "x = Dense(5)(x)\n",
    "model = Model(Inp, x)\n",
    "########################### Printing information ########################\n",
    "model.summary()\n",
    "print_model_weights(model)\n",
    "############################### Evaluation #############################\n",
    "# n_batch = 1\n",
    "# n_epoch = 500\n",
    "# model.compile(loss='mean_squared_error', optimizer='adam')\n",
    "# model.fit(X, y, epochs=n_epoch, batch_size=n_batch, verbose=0)\n",
    "# ############################### Evaluation #############################\n",
    "# result = model.predict(X, batch_size=1, verbose=0)\n",
    "# print('X:\\n',X[0].T)\n",
    "# print('result:\\n',result[0].T)\n",
    "# print('y:\\n',y[0].T)"
   ]
  },
  {
   "cell_type": "markdown",
   "metadata": {},
   "source": [
    "## Bidirectional Video Captioning\n",
    "Note that when using Bidirection with merge_mode=\"concat\", the output will be twice of the input. So we need to use merge_mode=\"sum\",\"mul\",\"ave\" instead"
   ]
  },
  {
   "cell_type": "code",
   "execution_count": 83,
   "metadata": {},
   "outputs": [
    {
     "name": "stdout",
     "output_type": "stream",
     "text": [
      "_________________________________________________________________\n",
      "Layer (type)                 Output Shape              Param #   \n",
      "=================================================================\n",
      "Video (InputLayer)           (None, 99, 10, 10, 3)     0         \n",
      "_________________________________________________________________\n",
      "Conv2D (TimeDistributed)     (None, 99, 8, 8, 64)      1792      \n",
      "_________________________________________________________________\n",
      "Flatten (TimeDistributed)    (None, 99, 4096)          0         \n",
      "_________________________________________________________________\n",
      "Code_Seq (TimeDistributed)   (None, 99, 64)            262208    \n",
      "_________________________________________________________________\n",
      "Bi-Encoder-Concat (Bidirecti (None, 8)                 2208      \n",
      "_________________________________________________________________\n",
      "Repeat (RepeatVector)        (None, 15, 8)             0         \n",
      "_________________________________________________________________\n",
      "Bi-Decoder-Sum (Bidirectiona (None, 15, 4)             416       \n",
      "=================================================================\n",
      "Total params: 266,624\n",
      "Trainable params: 266,624\n",
      "Non-trainable params: 0\n",
      "_________________________________________________________________\n",
      "Epoch 1/1\n",
      "1/1 [==============================] - 5s - loss: 0.1356\n",
      "result:\n",
      " [[-0.01982329  0.04412825  0.0939972   0.13153094  0.15955505  0.18072706\n",
      "   0.19719329  0.21061635  0.22229965  0.2333104   0.24456947  0.25689343\n",
      "   0.270962    0.28716153  0.30525684]\n",
      " [ 0.06737247  0.13471332  0.18186027  0.21427166  0.23661451  0.25223106\n",
      "   0.26337308  0.27152801  0.2776691   0.28242463  0.28619167  0.2892234\n",
      "   0.29172403  0.2939972   0.2967152 ]\n",
      " [ 0.32995909  0.3884685   0.41651344  0.42879611  0.43294662  0.43268454\n",
      "   0.42971516  0.42468193  0.41761962  0.40814888  0.39552861  0.37861538\n",
      "   0.35575297  0.32461771  0.28209797]\n",
      " [ 0.65681016  0.72151864  0.76613295  0.79665518  0.81727743  0.83063447\n",
      "   0.83821988  0.84066045  0.83781135  0.82867289  0.8110863   0.78111601\n",
      "   0.73195851  0.65229416  0.52501464]]\n",
      "y:\n",
      " [[  2.39251584e-01   7.17253361e-01   7.92050962e-01   9.37463619e-01\n",
      "    7.57970153e-01   4.49094640e-01   8.46419803e-01   6.53259450e-01\n",
      "    8.23724397e-05   1.10565318e-01   3.09403018e-01   2.69232680e-01\n",
      "    4.00403799e-02   2.23375717e-01   6.58175776e-01]\n",
      " [  6.52967758e-01   1.09379914e-01   6.56235212e-01   5.68544423e-01\n",
      "    3.35143572e-01   1.25330593e-01   1.63490570e-01   4.67670294e-01\n",
      "    3.58924711e-01   1.79259464e-02   4.36732902e-02   2.54994281e-01\n",
      "    5.23755694e-01   4.17057894e-01   5.78880104e-01]\n",
      " [  9.44081775e-01   3.90647483e-01   4.81780847e-01   6.18912017e-01\n",
      "    4.07687543e-01   6.85849273e-02   8.82308192e-01   3.04291583e-01\n",
      "    1.13281481e-01   6.79484353e-01   2.71530964e-01   2.12942078e-01\n",
      "    5.00067519e-01   8.84984426e-01   2.11042260e-01]\n",
      " [  3.02105417e-01   7.17568185e-01   2.64603625e-01   4.15702124e-01\n",
      "    3.15307912e-01   2.83949701e-02   5.24549790e-01   2.88014009e-01\n",
      "    7.37949378e-01   1.68892466e-02   7.59850048e-01   4.92292635e-01\n",
      "    9.87995328e-01   3.79894775e-01   4.85845465e-01]]\n"
     ]
    }
   ],
   "source": [
    "Input_type = 'video' # 'embedding' 'video'\n",
    "\n",
    "num_frames, m,n,channel = 99, 10,10, 3\n",
    "num_code = 64\n",
    "num_words, num_feat_out = 15, 4\n",
    "\n",
    "## Input : \n",
    "if Input_type == 'video':       X = np.random.rand(1, num_frames, m,n, channel)\n",
    "elif Input_type == 'embedding': X = np.random.rand(1, num_frames, num_code)\n",
    "\n",
    "## Output : (None, num_words, num_feat_out)\n",
    "y = np.random.rand(1, num_words, num_feat_out)\n",
    "\n",
    "########################### Architecture ##################################\n",
    "if Input_type == 'video':\n",
    "    ## Input\n",
    "    Inp_vid = Input(shape=(num_frames, m,n, channel), name=\"Video\")\n",
    "    ## Coded frames\n",
    "    x = TimeDistributed(Conv2D(64, (3,3)),name=\"Conv2D\")(Inp_vid)\n",
    "    x = TimeDistributed(Flatten(),name=\"Flatten\")(x)\n",
    "    x = TimeDistributed(Dense(num_code), name=\"Code_Seq\")(x)\n",
    "    ## Encoder\n",
    "    x = Bidirectional(LSTM(num_feat_out), merge_mode=\"concat\", name=\"Bi-Encoder-Concat\")(x)\n",
    "    x = RepeatVector( num_words, name='Repeat')(x)\n",
    "    ## Decoder\n",
    "    x = Bidirectional(LSTM(num_feat_out, return_sequences=True), merge_mode=\"sum\", name=\"Bi-Decoder-Sum\")(x)\n",
    "    model = Model(inputs=Inp_vid, outputs=x)\n",
    "elif Input_type == 'embedding':\n",
    "    Inp = Input( shape=(num_frames,num_code), name=\"Input\" )\n",
    "    ## Encoder\n",
    "    x = Bidirectional(LSTM(num_feat_out), merge_mode=\"concat\", name=\"Bi-Encoder-Concat\")(Inp)\n",
    "    x = RepeatVector( num_words, name='Repeat')(x)\n",
    "    ## Decoder\n",
    "    x = Bidirectional(LSTM(num_feat_out, return_sequences=True), merge_mode=\"sum\", name=\"Bi-Decoder-Sum\")(x)\n",
    "    model = Model(Inp, x)\n",
    "########################### Printing information ########################\n",
    "model.summary()\n",
    "# print_model_weights(model)\n",
    "\n",
    "################################# Training ##############################\n",
    "n_batch = 1\n",
    "n_epoch = 1\n",
    "model.compile(loss='mean_squared_error', optimizer='adam')\n",
    "model.fit(X, y, epochs=n_epoch, batch_size=n_batch, verbose=1)\n",
    "############################### Evaluation #############################\n",
    "result = model.predict(X)\n",
    "# print('X:\\n',X[0].T)\n",
    "print('result:\\n',result[0].T)\n",
    "print('y:\\n',y[0].T)"
   ]
  },
  {
   "cell_type": "code",
   "execution_count": null,
   "metadata": {
    "collapsed": true
   },
   "outputs": [],
   "source": []
  },
  {
   "cell_type": "code",
   "execution_count": null,
   "metadata": {
    "collapsed": true
   },
   "outputs": [],
   "source": []
  }
 ],
 "metadata": {
  "kernelspec": {
   "display_name": "Python 3",
   "language": "python",
   "name": "python3"
  },
  "language_info": {
   "codemirror_mode": {
    "name": "ipython",
    "version": 3
   },
   "file_extension": ".py",
   "mimetype": "text/x-python",
   "name": "python",
   "nbconvert_exporter": "python",
   "pygments_lexer": "ipython3",
   "version": "3.6.1"
  }
 },
 "nbformat": 4,
 "nbformat_minor": 2
}
